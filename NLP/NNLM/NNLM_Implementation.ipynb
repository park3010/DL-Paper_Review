{
 "cells": [
  {
   "cell_type": "code",
   "execution_count": 14,
   "id": "ed53584c-5df6-4cea-a9f2-7360a016eb81",
   "metadata": {},
   "outputs": [],
   "source": [
    "import torch\n",
    "import torch.nn as nn\n",
    "import torch.optim as optim"
   ]
  },
  {
   "cell_type": "code",
   "execution_count": 3,
   "id": "bbff71c9-ed55-4a26-a708-4cc1b8000a3b",
   "metadata": {},
   "outputs": [
    {
     "data": {
      "text/plain": [
       "'cuda'"
      ]
     },
     "execution_count": 3,
     "metadata": {},
     "output_type": "execute_result"
    }
   ],
   "source": [
    "device = 'cuda' if torch.cuda.is_available() else 'cpu'\n",
    "device"
   ]
  },
  {
   "attachments": {
    "d9380efb-6116-4b0a-a1df-ea850fd3da6e.png": {
     "image/png": "[encoded data removed]"
    }
   },
   "cell_type": "markdown",
   "id": "8389f70c-f731-407d-870e-63b0a37b47c8",
   "metadata": {},
   "source": [
    "### NNLM model\n",
    "\n",
    "- 예문 : \"what will the fat cat sit on\"\n",
    "- input : 'what will the fat cat'\n",
    "- output(예측값) : 'sit'\n",
    "\n",
    "<br>\n",
    "\n",
    "![image.png](attachment:d9380efb-6116-4b0a-a1df-ea850fd3da6e.png)"
   ]
  },
  {
   "cell_type": "code",
   "execution_count": 36,
   "id": "c95c6d0d-4576-4e24-9ae7-128261ad3c90",
   "metadata": {},
   "outputs": [],
   "source": [
    "# bath size 설정\n",
    "def make_batch():\n",
    "    input_batch = []\n",
    "    target_batch = []\n",
    "\n",
    "    for sen in sentences:\n",
    "        word = sen.split()  # 입력된 문장을 띄워쓰기 기반 단어 단위로 짜름\n",
    "        input_w = [word_dict[n] for n in word[:-1]]  # 다음 단어 예측을 위해 입력되는 단어는 1 ~ n-1\n",
    "        target = word_dict[word[-1]]  # 예측해야 하는 다음 단어\n",
    "\n",
    "        input_batch.append(input_w)\n",
    "        target_batch.append(target)\n",
    "        \n",
    "    return input_batch, target_batch"
   ]
  },
  {
   "cell_type": "code",
   "execution_count": 44,
   "id": "9e825260-9913-4568-8c98-b579140dfc35",
   "metadata": {},
   "outputs": [],
   "source": [
    "class NNLM(nn.Module):\n",
    "    def __init__(self):\n",
    "        super(NNLM, self).__init__()\n",
    "        self.C = nn.Embedding(n_class, m)  # embedding할 단어 개수, embedding할 vector의 차원\n",
    "        self.H = nn.Linear(n_step*m, n_hidden, bias=False) \n",
    "        self.d = nn.Parameter(torch.ones(n_hidden))\n",
    "        self.U = nn.Linear(n_hidden, n_class, bias=False)\n",
    "        self.W = nn.Linear(n_step*m, n_class, bias=False)\n",
    "        self.b = nn.Parameter(torch.ones(n_class))\n",
    "\n",
    "    def forward(self, x):\n",
    "        x = self.C(x)\n",
    "        x = x.view(-1, n_step * m)  # x를 [batch_size, n_step*m] 형태로 변환\n",
    "        tanh = torch.tanh(self.d + self.H(x))  # [batch_size, n_hidden]\n",
    "        output = self.b + self.W(x) + self.U(tanh)  # [batch_size, n_class]\n",
    "        return output  # y = b + Wx + U*tanh(d+Hx)"
   ]
  },
  {
   "cell_type": "code",
   "execution_count": 46,
   "id": "dda53037-ed92-4bd5-b715-0a46ac61e1c6",
   "metadata": {},
   "outputs": [
    {
     "name": "stdout",
     "output_type": "stream",
     "text": [
      "--------------------------------------------------\n",
      "Word Dictioinary: {'love': 0, 'dog': 1, 'like': 2, 'coffee': 3, 'hate': 4, 'i': 5, 'study': 6, 'milk': 7, 'book': 8, 'read': 9, 'englist': 10}\n",
      "--------------------------------------------------\n",
      "Number Dictioinary: {0: 'love', 1: 'dog', 2: 'like', 3: 'coffee', 4: 'hate', 5: 'i', 6: 'study', 7: 'milk', 8: 'book', 9: 'read', 10: 'englist'}\n",
      "--------------------------------------------------\n",
      "Number of Class: 11\n",
      "--------------------------------------------------\n",
      "\n",
      "NNLM(\n",
      "  (C): Embedding(11, 2)\n",
      "  (H): Linear(in_features=4, out_features=2, bias=False)\n",
      "  (U): Linear(in_features=2, out_features=11, bias=False)\n",
      "  (W): Linear(in_features=4, out_features=11, bias=False)\n",
      ")\n"
     ]
    }
   ],
   "source": [
    "sentences = [\"i like dog\", \"i love coffee\", \"i hate milk\", \"i read book\", \"i study englist\"]\n",
    "\n",
    "word_list = \" \".join(sentences[:]).split() \n",
    "word_list = list(set(word_list))\n",
    "\n",
    "word_dict = {w: i for i, w in enumerate(word_list)}\n",
    "number_dict = {i: w for i, w in enumerate(word_list)}\n",
    "n_class = len(word_dict)\n",
    "\n",
    "print('-'*50)\n",
    "print(f'Word Dictioinary: {word_dict}')\n",
    "print('-'*50)\n",
    "print(f'Number Dictioinary: {number_dict}')\n",
    "print('-'*50)\n",
    "print(f'Number of Class: {n_class}')\n",
    "print('-'*50)\n",
    "\n",
    "n_step = 2  # n-1\n",
    "n_hidden = 2\n",
    "m = 2  # embedding size\n",
    "\n",
    "print()\n",
    "print(NNLM())\n",
    "\n",
    "model = NNLM()\n",
    "\n",
    "criterion = nn.CrossEntropyLoss()\n",
    "optimizer = optim.Adam(model.parameters(), lr=0.001)\n",
    "\n",
    "input_batch, target_batch = make_batch()\n",
    "input_batch = torch.LongTensor(input_batch)  # int type의 tensor로 변경\n",
    "target_batch = torch.LongTensor(target_batch)"
   ]
  },
  {
   "cell_type": "code",
   "execution_count": 50,
   "id": "46b9d3a7-bb89-4722-ac5d-695f868aa48a",
   "metadata": {},
   "outputs": [
    {
     "name": "stdout",
     "output_type": "stream",
     "text": [
      "Epoch: 1000 cost = 0.001215\n",
      "Epoch: 2000 cost = 0.000689\n",
      "Epoch: 3000 cost = 0.000397\n",
      "Epoch: 4000 cost = 0.000231\n",
      "Epoch: 5000 cost = 0.000135\n",
      "--------------------------------------------------\n",
      "[['i', 'like'], ['i', 'love'], ['i', 'hate'], ['i', 'read'], ['i', 'study']] -> ['dog', 'coffee', 'milk', 'book', 'englist']\n"
     ]
    }
   ],
   "source": [
    "for epoch in range(5000):\n",
    "    optimizer.zero_grad()\n",
    "    output = model(input_batch)\n",
    "\n",
    "    loss = criterion(output, target_batch)\n",
    "\n",
    "    if (epoch + 1) % 1000 == 0:\n",
    "        print('Epoch:', '%04d' % (epoch + 1), 'cost =', '{:.6f}'.format(loss))\n",
    "\n",
    "    loss.backward()\n",
    "    optimizer.step()\n",
    "\n",
    "pred = model(input_batch).data.max(1, keepdim=True)[1]\n",
    "\n",
    "print('-'*50)\n",
    "\n",
    "print([sen.split()[:2] for sen in sentences], '->', [number_dict[n.item()] for n in pred.squeeze()])"
   ]
  },
  {
   "cell_type": "code",
   "execution_count": null,
   "id": "c855bf5d-80e1-4774-93ca-07baaed659ca",
   "metadata": {},
   "outputs": [],
   "source": []
  }
 ],
 "metadata": {
  "kernelspec": {
   "display_name": "deeplearn",
   "language": "python",
   "name": "deeplearn"
  },
  "language_info": {
   "codemirror_mode": {
    "name": "ipython",
    "version": 3
   },
   "file_extension": ".py",
   "mimetype": "text/x-python",
   "name": "python",
   "nbconvert_exporter": "python",
   "pygments_lexer": "ipython3",
   "version": "3.9.21"
  }
 },
 "nbformat": 4,
 "nbformat_minor": 5
}
