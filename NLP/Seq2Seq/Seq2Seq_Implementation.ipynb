{
 "cells": [
  {
   "cell_type": "code",
   "execution_count": 84,
   "id": "f08fb9f7-e5d0-416c-9c1a-852026c97b98",
   "metadata": {},
   "outputs": [],
   "source": [
    "import torch\n",
    "import torch.nn as nn\n",
    "import torch.optim as optim\n",
    "from torch.utils.data import DataLoader, TensorDataset\n",
    "\n",
    "import re\n",
    "import numpy as np\n",
    "import pandas as pd\n",
    "import unicodedata\n",
    "from tqdm import tqdm\n",
    "from collections import Counter"
   ]
  },
  {
   "cell_type": "code",
   "execution_count": 86,
   "id": "e669d29b-354b-41f2-8b79-9193a43ae188",
   "metadata": {},
   "outputs": [],
   "source": [
    "# np.random.seed(42) "
   ]
  },
  {
   "cell_type": "markdown",
   "id": "f4962976-013d-4700-af01-38151b8d5b5f",
   "metadata": {},
   "source": [
    "### Data Preprocessing"
   ]
  },
  {
   "cell_type": "code",
   "execution_count": 89,
   "id": "a58d28da-54e0-4f25-90f0-6e20d663f0f6",
   "metadata": {},
   "outputs": [],
   "source": [
    "num_samples = 33000"
   ]
  },
  {
   "cell_type": "code",
   "execution_count": 91,
   "id": "242687f3-499e-44d6-8685-51c410e70046",
   "metadata": {},
   "outputs": [],
   "source": [
    "def preprocess_sentence(sent):\n",
    "    # 프랑스어 악센트 제거\n",
    "    sent = ''.join(c for c in unicodedata.normalize('NFD', sent) if  unicodedata.category(c) != 'Mn')\n",
    "    sent = sent.lower()\n",
    "    \n",
    "    # 단어와 구두점 사이 공백 생성 : 'he is a boy.' -> 'he is a boy .'\n",
    "    sent = re.sub(r'([?.!,¿])', r' \\1', sent)\n",
    "\n",
    "    # (a-z, A-Z, \".\", \"?\", \"!\", \",\") 제외 모두 공백 처리\n",
    "    sent = re.sub(r'[^a-zA-Z!.?]', r' ', sent)\n",
    "\n",
    "    # 다수 개의 공백 하나의 공백으로 치환\n",
    "    sent = re.sub(r'\\s+', ' ', sent)\n",
    "    return sent\n",
    "\n",
    "\n",
    "def load_preprocessed_data():\n",
    "    encoder_input, decoder_input, decoder_target = [], [], []\n",
    "\n",
    "    with open('./data/fra-eng/fra.txt', 'r', encoding='utf-8') as lines:\n",
    "        for i, line in enumerate(lines):\n",
    "            src_line, tar_line, _ = line.strip().split('\\t')\n",
    "            src_line = [w for w in preprocess_sentence(src_line).split()]\n",
    "\n",
    "            tar_line = preprocess_sentence(tar_line)\n",
    "            tar_line_in = [w for w in (\"<sos> \" + tar_line).split()]\n",
    "            tar_line_out = [w for w in (tar_line + \" <eos>\").split()]\n",
    "\n",
    "            encoder_input.append(src_line)\n",
    "            decoder_input.append(tar_line_in)\n",
    "            decoder_target.append(tar_line_out)\n",
    "\n",
    "            if i == num_samples - 1:\n",
    "                break\n",
    "    return encoder_input, decoder_input, decoder_target"
   ]
  },
  {
   "cell_type": "code",
   "execution_count": 93,
   "id": "7b056491-63b3-4166-a794-1b4558c5cbc3",
   "metadata": {},
   "outputs": [
    {
     "name": "stdout",
     "output_type": "stream",
     "text": [
      "전처리 전 영어 문장 : Have you had dinner?\n",
      "전처리 후 영어 문장 : have you had dinner ?\n",
      "전처리 전 프랑스어 문장 : Avez-vous déjà diné?\n",
      "전처리 후 프랑스어 문장 : avez vous deja dine ?\n"
     ]
    }
   ],
   "source": [
    "# data preprocessing test\n",
    "en_sent = u\"Have you had dinner?\"\n",
    "fr_sent = u\"Avez-vous déjà diné?\"\n",
    "\n",
    "print(f'전처리 전 영어 문장 : {en_sent}')\n",
    "print(f'전처리 후 영어 문장 : {preprocess_sentence(en_sent)}')\n",
    "print(f'전처리 전 프랑스어 문장 : {fr_sent}')\n",
    "print(f'전처리 후 프랑스어 문장 : {preprocess_sentence(fr_sent)}')"
   ]
  },
  {
   "cell_type": "code",
   "execution_count": 95,
   "id": "52ead056-b97d-48a9-a193-cde300952b4b",
   "metadata": {},
   "outputs": [
    {
     "name": "stdout",
     "output_type": "stream",
     "text": [
      "인코더 입력 : [['go', '.'], ['go', '.'], ['go', '.'], ['go', '.'], ['hi', '.']]\n",
      "디코더 입력 : [['<sos>', 'va', '!'], ['<sos>', 'marche', '.'], ['<sos>', 'en', 'route', '!'], ['<sos>', 'bouge', '!'], ['<sos>', 'salut', '!']]\n",
      "디코더 라벨 : [['va', '!', '<eos>'], ['marche', '.', '<eos>'], ['en', 'route', '!', '<eos>'], ['bouge', '!', '<eos>'], ['salut', '!', '<eos>']]\n"
     ]
    }
   ],
   "source": [
    "# Seq2Seq 모델은 현재 시점의 디코더에 이전 시점의 디코더 출력을 입력하나\n",
    "# 해당 코드에선 sents_fr_in을 통해 이전 시점의 실제값을 현재 시점의 디코더에 입력하는 방식으로 구현\n",
    "# 이전 시점의 디코더 예측이 틀린 경우 잘못된 출력값이 현재 시점의 디코더에 들어가는 것을 방지하기 위함\n",
    "# 이러한 방법을 교사 강요(Teacher Forcing)라고 함\n",
    "\n",
    "sents_en_in, sents_fr_in, sents_fr_out = load_preprocessed_data()\n",
    "\n",
    "print(f'인코더 입력 : {sents_en_in[:5]}')\n",
    "print(f'디코더 입력 : {sents_fr_in[:5]}')\n",
    "print(f'디코더 라벨 : {sents_fr_out[:5]}')"
   ]
  },
  {
   "cell_type": "code",
   "execution_count": 96,
   "id": "7b7147ee-cfbb-4dff-8f52-b42c6e027cf9",
   "metadata": {},
   "outputs": [],
   "source": [
    "# vocab 생성\n",
    "def build_vocab(sents):\n",
    "    word_list = []\n",
    "\n",
    "    for sent in sents:\n",
    "        for word in sent:\n",
    "            word_list.append(word)\n",
    "\n",
    "    # 단어의 등장 빈도에 따라 높은 순서로 정렬\n",
    "    word_counts = Counter(word_list)\n",
    "    vocab = sorted(word_counts, key=word_counts.get, reverse=True)\n",
    "\n",
    "    word_to_index = {}\n",
    "    word_to_index['<PAD>'] = 0\n",
    "    word_to_index['<UNK>'] = 1\n",
    "\n",
    "    for index, word in enumerate(vocab):\n",
    "        word_to_index[word] = index + 2  # pad, unk 토큰 이후로 등장 빈도 높은 단어에 index 매기기 위해 2를 더함\n",
    "\n",
    "    return word_to_index"
   ]
  },
  {
   "cell_type": "code",
   "execution_count": 97,
   "id": "267fb1f9-27a1-4ebe-b3eb-a337db7052f5",
   "metadata": {},
   "outputs": [
    {
     "name": "stdout",
     "output_type": "stream",
     "text": [
      "영어 단어 집합 크기 : 4486,  프랑스어 단어 집합 크기 : 7879\n"
     ]
    }
   ],
   "source": [
    "src_vocab = build_vocab(sents_en_in)\n",
    "tar_vocab = build_vocab(sents_fr_in + sents_fr_out)\n",
    "\n",
    "src_vocab_size = len(src_vocab)\n",
    "tar_vocab_size = len(tar_vocab)\n",
    "\n",
    "print(f\"영어 단어 집합 크기 : {src_vocab_size},  프랑스어 단어 집합 크기 : {tar_vocab_size}\")"
   ]
  },
  {
   "cell_type": "code",
   "execution_count": 98,
   "id": "0f79a66c-bc84-4a2a-9013-d76655f12b6f",
   "metadata": {},
   "outputs": [],
   "source": [
    "# vocab으로 정수 인코딩 진행하여 단어 -> 정수 인텍스로 변환함\n",
    "index_to_src = {v: k for k, v in src_vocab.items()}\n",
    "index_to_tar = {v: k for k, v in tar_vocab.items()}\n",
    "\n",
    "def texts_to_sequences(sents, word_to_index):\n",
    "    encoded_X_data = []\n",
    "    for sent in tqdm(sents):\n",
    "        index_sequences = []\n",
    "        for word in sent:\n",
    "            try:\n",
    "                index_sequences.append(word_to_index[word])  # 들어온 단어에 대해 vocab에서 해당 단어에 대한 정수 인텍스를 찾아서 저장함\n",
    "            except KeyError:\n",
    "                index_sequences.append(word_to_index['<UNK>']) # 들어온 단어가 vocab에 없을 경우 UNK 토큰 인텍스로 저장함\n",
    "        encoded_X_data.append(index_sequences)\n",
    "    return encoded_X_data"
   ]
  },
  {
   "cell_type": "code",
   "execution_count": 103,
   "id": "33d949d4-ce80-4802-9033-a1142b9dba6c",
   "metadata": {},
   "outputs": [
    {
     "name": "stderr",
     "output_type": "stream",
     "text": [
      "100%|██████████| 33000/33000 [00:00<00:00, 185223.84it/s]\n",
      "100%|██████████| 33000/33000 [00:00<00:00, 981422.88it/s]\n",
      "100%|██████████| 33000/33000 [00:00<00:00, 1212290.29it/s]\n"
     ]
    }
   ],
   "source": [
    "encoder_input = texts_to_sequences(sents_en_in, src_vocab)\n",
    "decoder_input = texts_to_sequences(sents_fr_in, tar_vocab)\n",
    "decoder_target = texts_to_sequences(sents_fr_out, tar_vocab)"
   ]
  },
  {
   "cell_type": "code",
   "execution_count": 104,
   "id": "0d6b77e0-a15f-43ac-8c16-6eed345bb083",
   "metadata": {},
   "outputs": [
    {
     "name": "stdout",
     "output_type": "stream",
     "text": [
      "Index 0, 정수 인코딩 전: ['go', '.'], 정수 인코딩 후: [27, 2]\n",
      "Index 1, 정수 인코딩 전: ['go', '.'], 정수 인코딩 후: [27, 2]\n",
      "Index 2, 정수 인코딩 전: ['go', '.'], 정수 인코딩 후: [27, 2]\n",
      "Index 3, 정수 인코딩 전: ['go', '.'], 정수 인코딩 후: [27, 2]\n",
      "Index 4, 정수 인코딩 전: ['hi', '.'], 정수 인코딩 후: [736, 2]\n"
     ]
    }
   ],
   "source": [
    "# 인코더 입력에 대해 정수 인코딩 전 후 확인\n",
    "for i, (item1, item2) in zip(range(5), zip(sents_en_in, encoder_input)):\n",
    "    print(f'Index {i}, 정수 인코딩 전: {item1}, 정수 인코딩 후: {item2}')"
   ]
  },
  {
   "cell_type": "code",
   "execution_count": 107,
   "id": "0df97cfa-2026-40fc-be7f-4638022bb1b0",
   "metadata": {},
   "outputs": [],
   "source": [
    "# 데이터 길이 맞추기 -> 패딩 추가\n",
    "def pad_sequences(sentences, max_len=None):\n",
    "    if max_len is None:\n",
    "        max_len = max([len(sentence) for sentence in sentences])\n",
    "\n",
    "    features = np.zeros((len(sentences), max_len), dtype=int)\n",
    "    for index, sentence in enumerate(sentences):\n",
    "        if len(sentence) != 0:\n",
    "            features[index, :len(sentence)] = np.array(sentence)[:max_len]\n",
    "    return features"
   ]
  },
  {
   "cell_type": "code",
   "execution_count": 109,
   "id": "677a837d-deaf-4ec9-a764-8bb68d3f9ab4",
   "metadata": {},
   "outputs": [],
   "source": [
    "encoder_input = pad_sequences(encoder_input)\n",
    "decoder_input = pad_sequences(decoder_input)\n",
    "decoder_target = pad_sequences(decoder_target)"
   ]
  },
  {
   "cell_type": "code",
   "execution_count": 111,
   "id": "b8c247ea-e978-4a00-bceb-a30b842b83df",
   "metadata": {},
   "outputs": [
    {
     "name": "stdout",
     "output_type": "stream",
     "text": [
      "encoder input shape : (33000, 7)\n",
      "decoder input shape : (33000, 16)\n",
      "decoder target shape : (33000, 16)\n"
     ]
    }
   ],
   "source": [
    "print(f'encoder input shape : {encoder_input.shape}')\n",
    "print(f'decoder input shape : {decoder_input.shape}')\n",
    "print(f'decoder target shape : {decoder_target.shape}')"
   ]
  },
  {
   "cell_type": "code",
   "execution_count": 113,
   "id": "51a690db-27e3-41fc-93c8-5c251a412ce9",
   "metadata": {},
   "outputs": [],
   "source": [
    "# 데이터 분할 전 데이터 섞어줌\n",
    "indices = np.arange(encoder_input.shape[0])\n",
    "np.random.shuffle(indices)\n",
    "\n",
    "encoder_input = encoder_input[indices]\n",
    "decoder_input = decoder_input[indices]\n",
    "decoder_target = decoder_target[indices]"
   ]
  },
  {
   "cell_type": "code",
   "execution_count": 115,
   "id": "cf9d4406-cb3a-4be7-994f-74390973f4c5",
   "metadata": {},
   "outputs": [
    {
     "name": "stdout",
     "output_type": "stream",
     "text": [
      "['i', 'love', 'music', '.', '<PAD>', '<PAD>', '<PAD>']\n",
      "['<sos>', 'je', 'tripe', 'sur', 'la', 'musique', '.', '<PAD>', '<PAD>', '<PAD>', '<PAD>', '<PAD>', '<PAD>', '<PAD>', '<PAD>', '<PAD>']\n",
      "['je', 'tripe', 'sur', 'la', 'musique', '.', '<eos>', '<PAD>', '<PAD>', '<PAD>', '<PAD>', '<PAD>', '<PAD>', '<PAD>', '<PAD>', '<PAD>']\n"
     ]
    }
   ],
   "source": [
    "print([index_to_src[word] for word in encoder_input[30997]])\n",
    "print([index_to_tar[word] for word in decoder_input[30997]])\n",
    "print([index_to_tar[word] for word in decoder_target[30997]])"
   ]
  },
  {
   "cell_type": "code",
   "execution_count": 117,
   "id": "634e75dd-a818-407e-929f-e77ad9b0cbcd",
   "metadata": {},
   "outputs": [],
   "source": [
    "# split data -> 3,300개의 valid data\n",
    "num_of_val = int(33000*0.1)\n",
    "\n",
    "encoder_input_train = encoder_input[:-num_of_val]\n",
    "decoder_input_train = decoder_input[:-num_of_val]\n",
    "decoder_target_train = decoder_target[:-num_of_val]\n",
    "\n",
    "encoder_input_test = encoder_input[-num_of_val:]\n",
    "decoder_input_test = decoder_input[-num_of_val:]\n",
    "decoder_target_test = decoder_target[-num_of_val:]"
   ]
  },
  {
   "cell_type": "code",
   "execution_count": 119,
   "id": "808791ec-321c-4905-8012-fea2aa33e628",
   "metadata": {},
   "outputs": [
    {
     "name": "stdout",
     "output_type": "stream",
     "text": [
      "train source data shape : (29700, 7)\n",
      "train target data shape : (29700, 16)\n",
      "train target label shape : (29700, 16)\n",
      "test source data shape : (3300, 7)\n",
      "test target data shape : (3300, 16)\n",
      "test target label shape : (3300, 16)\n"
     ]
    }
   ],
   "source": [
    "print(f'train source data shape : {encoder_input_train.shape}')\n",
    "print(f'train target data shape : {decoder_input_train.shape}')\n",
    "print(f'train target label shape : {decoder_target_train.shape}')\n",
    "print(f'test source data shape : {encoder_input_test.shape}')\n",
    "print(f'test target data shape : {decoder_input_test.shape}')\n",
    "print(f'test target label shape : {decoder_target_test.shape}')"
   ]
  },
  {
   "attachments": {
    "fef85a5a-32e0-442f-b6c5-ba4d4771a3c6.png": {
     "image/png": "[encoded data removed]"
    }
   },
   "cell_type": "markdown",
   "id": "4b5157c0-4b82-4dbc-afbe-33785b594f3f",
   "metadata": {},
   "source": [
    "### Model\n",
    "\n",
    "![image.png](attachment:fef85a5a-32e0-442f-b6c5-ba4d4771a3c6.png)"
   ]
  },
  {
   "cell_type": "code",
   "execution_count": 122,
   "id": "ae41ca3c-1765-4bac-9136-d305d1c32d95",
   "metadata": {},
   "outputs": [],
   "source": [
    "class Encoder(nn.Module):\n",
    "    def __init__(self, src_vocab_size, embedding_dim, hidden_units):\n",
    "        super(Encoder, self).__init__()\n",
    "        self.embedding = nn.Embedding(src_vocab_size, embedding_dim, padding_idx=0)\n",
    "        self.lstm = nn.LSTM(embedding_dim, hidden_units, batch_first=True)\n",
    "\n",
    "    def forward(self, x):\n",
    "        # x = [batch_size, sequence_len, emhedding_dim]\n",
    "        x = self.embedding(x)\n",
    "        _, (hidden, cell) = self.lstm(x)\n",
    "        return hidden, cell"
   ]
  },
  {
   "cell_type": "code",
   "execution_count": 124,
   "id": "faaadf5c-c337-4879-a9fb-b1bdc1cb2aeb",
   "metadata": {},
   "outputs": [],
   "source": [
    "class Decoder(nn.Module):\n",
    "    def __init__(self, tar_vocab_size, embedding_dim, hidden_units):\n",
    "        super(Decoder, self).__init__()\n",
    "        self.embedding = nn.Embedding(tar_vocab_size, embedding_dim, padding_idx=0)\n",
    "        self.lstm = nn.LSTM(embedding_dim, hidden_units, batch_first=True)\n",
    "        self.fc = nn.Linear(hidden_units, tar_vocab_size)\n",
    "\n",
    "    def forward(self, x, hidden, cell):\n",
    "        x = self.embedding(x)\n",
    "        output, (hidden, cell) = self.lstm(x, (hidden, cell))\n",
    "        output = self.fc(output)\n",
    "        return output, hidden, cell"
   ]
  },
  {
   "cell_type": "code",
   "execution_count": 126,
   "id": "cf5138c8-7bdd-4527-a98f-a0e71561eb65",
   "metadata": {},
   "outputs": [],
   "source": [
    "class Seq2Seq(nn.Module):\n",
    "    def __init__(self, encoder, decoder):\n",
    "        super(Seq2Seq, self).__init__()\n",
    "        self.encoder = encoder\n",
    "        self.decoder = decoder\n",
    "\n",
    "    def forward(self, src, trg):\n",
    "        hidden, cell = self.encoder(src)\n",
    "        output, _, _ = self.decoder(trg, hidden, cell)\n",
    "        return output"
   ]
  },
  {
   "cell_type": "code",
   "execution_count": 128,
   "id": "509c8421-1c62-4216-8d36-03eac8e3a4b8",
   "metadata": {},
   "outputs": [],
   "source": [
    "embedding_dim = 256\n",
    "hidden_units = 256\n",
    "\n",
    "encoder = Encoder(src_vocab_size, embedding_dim, hidden_units)\n",
    "decoder = Decoder(tar_vocab_size, embedding_dim, hidden_units)\n",
    "model = Seq2Seq(encoder, decoder)\n",
    "\n",
    "loss_fn = nn.CrossEntropyLoss(ignore_index=0)\n",
    "optimizer = optim.Adam(model.parameters())"
   ]
  },
  {
   "cell_type": "code",
   "execution_count": 130,
   "id": "5e7510c6-86a3-429d-9abb-7e5dfbb46651",
   "metadata": {},
   "outputs": [
    {
     "data": {
      "text/plain": [
       "Seq2Seq(\n",
       "  (encoder): Encoder(\n",
       "    (embedding): Embedding(4486, 256, padding_idx=0)\n",
       "    (lstm): LSTM(256, 256, batch_first=True)\n",
       "  )\n",
       "  (decoder): Decoder(\n",
       "    (embedding): Embedding(7879, 256, padding_idx=0)\n",
       "    (lstm): LSTM(256, 256, batch_first=True)\n",
       "    (fc): Linear(in_features=256, out_features=7879, bias=True)\n",
       "  )\n",
       ")"
      ]
     },
     "execution_count": 130,
     "metadata": {},
     "output_type": "execute_result"
    }
   ],
   "source": [
    "model"
   ]
  },
  {
   "cell_type": "code",
   "execution_count": 132,
   "id": "0255690f-d0f7-47e2-82d9-6a1685d3ab4c",
   "metadata": {},
   "outputs": [],
   "source": [
    "def evaluation(model, dataloader, loss_fn, deivce):\n",
    "    model.eval()\n",
    "    total_loss = 0.0\n",
    "    total_correct = 0\n",
    "    total_count = 0\n",
    "    \n",
    "    with torch.no_grad():\n",
    "        for encoder_inputs, decoder_inputs, decoder_targets in dataloader:\n",
    "            encoder_inputs = encoder_inputs.to(device)\n",
    "            decoder_inputs = decoder_inputs.to(device)\n",
    "            decoder_targets = decoder_targets.to(device)\n",
    "\n",
    "            outputs = model(encoder_inputs, decoder_inputs)\n",
    "\n",
    "            loss = loss_fn(outputs.view(-1, outputs.size(-1)), decoder_targets.view(-1))\n",
    "            total_loss += loss.item()\n",
    "\n",
    "            mask = decoder_targets != 0\n",
    "            total_correct += ((outputs.argmax(dim=-1) == decoder_targets) * mask).sum().item()\n",
    "            total_count += mask.sum().item()\n",
    "            \n",
    "    return total_loss / len(dataloader), total_correct / total_count"
   ]
  },
  {
   "cell_type": "code",
   "execution_count": 134,
   "id": "523503d6-e266-450c-852f-48f599f4b6c7",
   "metadata": {},
   "outputs": [],
   "source": [
    "# dataloader\n",
    "encoder_input_train_tensor = torch.tensor(encoder_input_train, dtype=torch.long)\n",
    "decoder_input_train_tensor = torch.tensor(decoder_input_train, dtype=torch.long)\n",
    "decoder_target_train_tensor = torch.tensor(decoder_target_train, dtype=torch.long)\n",
    "\n",
    "encoder_input_test_tensor = torch.tensor(encoder_input_test, dtype=torch.long)\n",
    "decoder_input_test_tensor = torch.tensor(decoder_input_test, dtype=torch.long)\n",
    "decoder_target_test_tensor = torch.tensor(decoder_target_test, dtype=torch.long)\n",
    "\n",
    "train_dataset = TensorDataset(encoder_input_train_tensor, decoder_input_train_tensor, decoder_target_train_tensor)\n",
    "train_dataloader = DataLoader(train_dataset, batch_size=128, shuffle=True, drop_last=True)  # 마지막 배치를 버려서 배치 크기 일정하게 유지\n",
    "\n",
    "test_dataset = TensorDataset(encoder_input_test_tensor, decoder_input_test_tensor, decoder_target_test_tensor)\n",
    "test_dataloader = DataLoader(test_dataset, batch_size=128, shuffle=False, drop_last=True)  # 마지막 배치를 버려서 배치 크기 일정하게 유지"
   ]
  },
  {
   "cell_type": "code",
   "execution_count": 136,
   "id": "29d3236b-4791-4ab3-b899-f4ec364f62aa",
   "metadata": {},
   "outputs": [
    {
     "data": {
      "text/plain": [
       "Seq2Seq(\n",
       "  (encoder): Encoder(\n",
       "    (embedding): Embedding(4486, 256, padding_idx=0)\n",
       "    (lstm): LSTM(256, 256, batch_first=True)\n",
       "  )\n",
       "  (decoder): Decoder(\n",
       "    (embedding): Embedding(7879, 256, padding_idx=0)\n",
       "    (lstm): LSTM(256, 256, batch_first=True)\n",
       "    (fc): Linear(in_features=256, out_features=7879, bias=True)\n",
       "  )\n",
       ")"
      ]
     },
     "execution_count": 136,
     "metadata": {},
     "output_type": "execute_result"
    }
   ],
   "source": [
    "num_epochs = 30\n",
    "device = 'cuda' if torch.cuda.is_available() else 'cpu'\n",
    "model.to(device)"
   ]
  },
  {
   "cell_type": "code",
   "execution_count": 138,
   "id": "b6b4f53e-29b8-4504-a97f-cf29319a428d",
   "metadata": {},
   "outputs": [
    {
     "name": "stdout",
     "output_type": "stream",
     "text": [
      "Epoch: 1/30 | Train Loss: 2.9138 | Train Acc: 0.5319 | Valid Loss: 3.0221 | Valid Acc: 0.5289\n",
      "Epoch: 2/30 | Train Loss: 2.2514 | Train Acc: 0.6057 | Valid Loss: 2.4775 | Valid Acc: 0.5967\n",
      "Epoch: 3/30 | Train Loss: 1.8385 | Train Acc: 0.6514 | Valid Loss: 2.1862 | Valid Acc: 0.6260\n",
      "Epoch: 4/30 | Train Loss: 1.5317 | Train Acc: 0.6883 | Valid Loss: 1.9885 | Valid Acc: 0.6491\n",
      "Epoch: 5/30 | Train Loss: 1.2782 | Train Acc: 0.7258 | Valid Loss: 1.8489 | Valid Acc: 0.6656\n",
      "Epoch: 6/30 | Train Loss: 1.0690 | Train Acc: 0.7608 | Valid Loss: 1.7441 | Valid Acc: 0.6826\n",
      "Epoch: 7/30 | Train Loss: 0.8867 | Train Acc: 0.7963 | Valid Loss: 1.6587 | Valid Acc: 0.6937\n",
      "Epoch: 8/30 | Train Loss: 0.7406 | Train Acc: 0.8251 | Valid Loss: 1.5990 | Valid Acc: 0.7029\n",
      "Epoch: 9/30 | Train Loss: 0.6194 | Train Acc: 0.8521 | Valid Loss: 1.5543 | Valid Acc: 0.7124\n",
      "Epoch: 10/30 | Train Loss: 0.5210 | Train Acc: 0.8743 | Valid Loss: 1.5281 | Valid Acc: 0.7130\n",
      "Epoch: 11/30 | Train Loss: 0.4417 | Train Acc: 0.8895 | Valid Loss: 1.5058 | Valid Acc: 0.7184\n",
      "Epoch: 12/30 | Train Loss: 0.3784 | Train Acc: 0.9013 | Valid Loss: 1.4949 | Valid Acc: 0.7221\n",
      "Epoch: 13/30 | Train Loss: 0.3318 | Train Acc: 0.9100 | Valid Loss: 1.4985 | Valid Acc: 0.7220\n",
      "Epoch: 14/30 | Train Loss: 0.2972 | Train Acc: 0.9154 | Valid Loss: 1.5044 | Valid Acc: 0.7225\n",
      "Epoch: 15/30 | Train Loss: 0.2682 | Train Acc: 0.9191 | Valid Loss: 1.4965 | Valid Acc: 0.7242\n",
      "Epoch: 16/30 | Train Loss: 0.2454 | Train Acc: 0.9218 | Valid Loss: 1.5172 | Valid Acc: 0.7256\n",
      "Epoch: 17/30 | Train Loss: 0.2274 | Train Acc: 0.9249 | Valid Loss: 1.5195 | Valid Acc: 0.7258\n",
      "Epoch: 18/30 | Train Loss: 0.2145 | Train Acc: 0.9263 | Valid Loss: 1.5413 | Valid Acc: 0.7254\n",
      "Epoch: 19/30 | Train Loss: 0.2041 | Train Acc: 0.9280 | Valid Loss: 1.5489 | Valid Acc: 0.7248\n",
      "Epoch: 20/30 | Train Loss: 0.1958 | Train Acc: 0.9289 | Valid Loss: 1.5620 | Valid Acc: 0.7245\n",
      "Epoch: 21/30 | Train Loss: 0.1881 | Train Acc: 0.9299 | Valid Loss: 1.5768 | Valid Acc: 0.7243\n",
      "Epoch: 22/30 | Train Loss: 0.1831 | Train Acc: 0.9298 | Valid Loss: 1.5885 | Valid Acc: 0.7246\n",
      "Epoch: 23/30 | Train Loss: 0.1752 | Train Acc: 0.9310 | Valid Loss: 1.6036 | Valid Acc: 0.7225\n",
      "Epoch: 24/30 | Train Loss: 0.1730 | Train Acc: 0.9311 | Valid Loss: 1.6098 | Valid Acc: 0.7244\n",
      "Epoch: 25/30 | Train Loss: 0.1682 | Train Acc: 0.9316 | Valid Loss: 1.6200 | Valid Acc: 0.7236\n",
      "Epoch: 26/30 | Train Loss: 0.1658 | Train Acc: 0.9318 | Valid Loss: 1.6364 | Valid Acc: 0.7250\n",
      "Epoch: 27/30 | Train Loss: 0.1626 | Train Acc: 0.9315 | Valid Loss: 1.6415 | Valid Acc: 0.7252\n",
      "Epoch: 28/30 | Train Loss: 0.1593 | Train Acc: 0.9323 | Valid Loss: 1.6429 | Valid Acc: 0.7247\n",
      "Epoch: 29/30 | Train Loss: 0.1601 | Train Acc: 0.9313 | Valid Loss: 1.6533 | Valid Acc: 0.7241\n",
      "Epoch: 30/30 | Train Loss: 0.1549 | Train Acc: 0.9324 | Valid Loss: 1.6723 | Valid Acc: 0.7263\n"
     ]
    }
   ],
   "source": [
    "# best_val_loss = float('inf')\n",
    "\n",
    "for epoch in range(num_epochs):\n",
    "    model.train()\n",
    "\n",
    "    for encoder_inputs, decoder_inputs, decoder_targets in train_dataloader:\n",
    "        encoder_inputs = encoder_inputs.to(device)\n",
    "        decoder_inputs = decoder_inputs.to(device)\n",
    "        decoder_targets = decoder_targets.to(device)\n",
    "\n",
    "        optimizer.zero_grad()\n",
    "\n",
    "        outputs = model(encoder_inputs, decoder_inputs)\n",
    "\n",
    "        # batch_size, seq_len, vocab_size = outputs.shape\n",
    "        # print(f\"Outputs shape: {outputs.shape}\")\n",
    "        # print(f\"Targets shape: {decoder_targets.shape}\")\n",
    "\n",
    "        loss = loss_fn(outputs.view(-1, outputs.size(-1)), decoder_targets.view(-1))\n",
    "        loss.backward()\n",
    "\n",
    "        optimizer.step()\n",
    "\n",
    "    train_loss, train_acc = evaluation(model, train_dataloader, loss_fn, device)\n",
    "    test_loss, test_acc = evaluation(model, test_dataloader, loss_fn, device)\n",
    "\n",
    "    print(f'Epoch: {epoch+1}/{num_epochs} | Train Loss: {train_loss:.4f} | Train Acc: {train_acc:.4f} | Valid Loss: {test_loss:.4f} | Valid Acc: {test_acc:.4f}')\n",
    "\n",
    "    # if test_loss < best_val_loss:\n",
    "    #     print(f'Validation loss improved from {best_val_loss:.4f} to {valid_loss:.4f}.')\n",
    "    #     best_val_loss = valid_loss\n",
    "    #     torch.save(model.state_dict(), 'best_model_checkpoint.pth')"
   ]
  },
  {
   "cell_type": "code",
   "execution_count": null,
   "id": "5c298b61-16f8-4c15-85fb-f3110813c203",
   "metadata": {},
   "outputs": [],
   "source": []
  }
 ],
 "metadata": {
  "kernelspec": {
   "display_name": "deeplearn",
   "language": "python",
   "name": "deeplearn"
  },
  "language_info": {
   "codemirror_mode": {
    "name": "ipython",
    "version": 3
   },
   "file_extension": ".py",
   "mimetype": "text/x-python",
   "name": "python",
   "nbconvert_exporter": "python",
   "pygments_lexer": "ipython3",
   "version": "3.9.21"
  }
 },
 "nbformat": 4,
 "nbformat_minor": 5
}
